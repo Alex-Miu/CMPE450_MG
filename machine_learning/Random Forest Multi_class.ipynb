{
 "cells": [
  {
   "cell_type": "code",
   "execution_count": 1,
   "metadata": {},
   "outputs": [],
   "source": [
    "# Import necessary Python modules\n",
    "import pandas as pd\n",
    "import numpy as np\n",
    "\n",
    "import matplotlib.pyplot as plt\n",
    "%matplotlib inline\n",
    "\n",
    "from sklearn.ensemble import RandomForestClassifier\n",
    "\n",
    "from sklearn.model_selection import train_test_split\n",
    "import sklearn.metrics as metrics\n",
    "from sklearn.metrics import accuracy_score\n"
   ]
  },
  {
   "cell_type": "code",
   "execution_count": 2,
   "metadata": {},
   "outputs": [],
   "source": [
    "eeg_data = pd.read_csv('mindGames.csv')"
   ]
  },
  {
   "cell_type": "code",
   "execution_count": 3,
   "metadata": {},
   "outputs": [
    {
     "name": "stdout",
     "output_type": "stream",
     "text": [
      "(3999, 71)\n"
     ]
    },
    {
     "data": {
      "text/html": [
       "<div>\n",
       "<style scoped>\n",
       "    .dataframe tbody tr th:only-of-type {\n",
       "        vertical-align: middle;\n",
       "    }\n",
       "\n",
       "    .dataframe tbody tr th {\n",
       "        vertical-align: top;\n",
       "    }\n",
       "\n",
       "    .dataframe thead th {\n",
       "        text-align: right;\n",
       "    }\n",
       "</style>\n",
       "<table border=\"1\" class=\"dataframe\">\n",
       "  <thead>\n",
       "    <tr style=\"text-align: right;\">\n",
       "      <th></th>\n",
       "      <th>AF3/theta</th>\n",
       "      <th>AF3/alpha</th>\n",
       "      <th>AF3/betaL</th>\n",
       "      <th>AF3/betaH</th>\n",
       "      <th>AF3/gamma</th>\n",
       "      <th>F7/theta</th>\n",
       "      <th>F7/alpha</th>\n",
       "      <th>F7/betaL</th>\n",
       "      <th>F7/betaH</th>\n",
       "      <th>F7/gamma</th>\n",
       "      <th>...</th>\n",
       "      <th>F8/alpha</th>\n",
       "      <th>F8/betaL</th>\n",
       "      <th>F8/betaH</th>\n",
       "      <th>F8/gamma</th>\n",
       "      <th>AF4/theta</th>\n",
       "      <th>AF4/alpha</th>\n",
       "      <th>AF4/betaL</th>\n",
       "      <th>AF4/betaH</th>\n",
       "      <th>AF4/gamma</th>\n",
       "      <th>direction</th>\n",
       "    </tr>\n",
       "  </thead>\n",
       "  <tbody>\n",
       "    <tr>\n",
       "      <th>0</th>\n",
       "      <td>1.246</td>\n",
       "      <td>0.771</td>\n",
       "      <td>0.191</td>\n",
       "      <td>0.451</td>\n",
       "      <td>0.218</td>\n",
       "      <td>0.804</td>\n",
       "      <td>0.270</td>\n",
       "      <td>0.207</td>\n",
       "      <td>0.122</td>\n",
       "      <td>0.157</td>\n",
       "      <td>...</td>\n",
       "      <td>1.251</td>\n",
       "      <td>1.128</td>\n",
       "      <td>0.274</td>\n",
       "      <td>0.341</td>\n",
       "      <td>12.798</td>\n",
       "      <td>4.384</td>\n",
       "      <td>2.380</td>\n",
       "      <td>0.544</td>\n",
       "      <td>0.329</td>\n",
       "      <td>0</td>\n",
       "    </tr>\n",
       "    <tr>\n",
       "      <th>1</th>\n",
       "      <td>1.240</td>\n",
       "      <td>0.664</td>\n",
       "      <td>0.207</td>\n",
       "      <td>0.425</td>\n",
       "      <td>0.199</td>\n",
       "      <td>0.843</td>\n",
       "      <td>0.281</td>\n",
       "      <td>0.283</td>\n",
       "      <td>0.125</td>\n",
       "      <td>0.131</td>\n",
       "      <td>...</td>\n",
       "      <td>1.273</td>\n",
       "      <td>1.164</td>\n",
       "      <td>0.271</td>\n",
       "      <td>0.312</td>\n",
       "      <td>10.487</td>\n",
       "      <td>3.355</td>\n",
       "      <td>2.141</td>\n",
       "      <td>0.507</td>\n",
       "      <td>0.316</td>\n",
       "      <td>0</td>\n",
       "    </tr>\n",
       "    <tr>\n",
       "      <th>2</th>\n",
       "      <td>1.200</td>\n",
       "      <td>0.543</td>\n",
       "      <td>0.238</td>\n",
       "      <td>0.383</td>\n",
       "      <td>0.186</td>\n",
       "      <td>0.816</td>\n",
       "      <td>0.296</td>\n",
       "      <td>0.366</td>\n",
       "      <td>0.132</td>\n",
       "      <td>0.109</td>\n",
       "      <td>...</td>\n",
       "      <td>1.269</td>\n",
       "      <td>1.158</td>\n",
       "      <td>0.271</td>\n",
       "      <td>0.288</td>\n",
       "      <td>7.510</td>\n",
       "      <td>2.210</td>\n",
       "      <td>1.769</td>\n",
       "      <td>0.446</td>\n",
       "      <td>0.297</td>\n",
       "      <td>0</td>\n",
       "    </tr>\n",
       "    <tr>\n",
       "      <th>3</th>\n",
       "      <td>1.185</td>\n",
       "      <td>0.436</td>\n",
       "      <td>0.270</td>\n",
       "      <td>0.332</td>\n",
       "      <td>0.179</td>\n",
       "      <td>0.725</td>\n",
       "      <td>0.314</td>\n",
       "      <td>0.429</td>\n",
       "      <td>0.136</td>\n",
       "      <td>0.093</td>\n",
       "      <td>...</td>\n",
       "      <td>1.289</td>\n",
       "      <td>1.110</td>\n",
       "      <td>0.280</td>\n",
       "      <td>0.268</td>\n",
       "      <td>4.877</td>\n",
       "      <td>1.295</td>\n",
       "      <td>1.378</td>\n",
       "      <td>0.382</td>\n",
       "      <td>0.277</td>\n",
       "      <td>0</td>\n",
       "    </tr>\n",
       "    <tr>\n",
       "      <th>4</th>\n",
       "      <td>1.200</td>\n",
       "      <td>0.368</td>\n",
       "      <td>0.287</td>\n",
       "      <td>0.280</td>\n",
       "      <td>0.175</td>\n",
       "      <td>0.587</td>\n",
       "      <td>0.332</td>\n",
       "      <td>0.448</td>\n",
       "      <td>0.132</td>\n",
       "      <td>0.079</td>\n",
       "      <td>...</td>\n",
       "      <td>1.405</td>\n",
       "      <td>1.026</td>\n",
       "      <td>0.298</td>\n",
       "      <td>0.249</td>\n",
       "      <td>3.147</td>\n",
       "      <td>0.806</td>\n",
       "      <td>1.052</td>\n",
       "      <td>0.331</td>\n",
       "      <td>0.258</td>\n",
       "      <td>0</td>\n",
       "    </tr>\n",
       "  </tbody>\n",
       "</table>\n",
       "<p>5 rows × 71 columns</p>\n",
       "</div>"
      ],
      "text/plain": [
       "   AF3/theta  AF3/alpha  AF3/betaL  AF3/betaH  AF3/gamma  F7/theta  F7/alpha  \\\n",
       "0      1.246      0.771      0.191      0.451      0.218     0.804     0.270   \n",
       "1      1.240      0.664      0.207      0.425      0.199     0.843     0.281   \n",
       "2      1.200      0.543      0.238      0.383      0.186     0.816     0.296   \n",
       "3      1.185      0.436      0.270      0.332      0.179     0.725     0.314   \n",
       "4      1.200      0.368      0.287      0.280      0.175     0.587     0.332   \n",
       "\n",
       "   F7/betaL  F7/betaH  F7/gamma  ...  F8/alpha  F8/betaL  F8/betaH  F8/gamma  \\\n",
       "0     0.207     0.122     0.157  ...     1.251     1.128     0.274     0.341   \n",
       "1     0.283     0.125     0.131  ...     1.273     1.164     0.271     0.312   \n",
       "2     0.366     0.132     0.109  ...     1.269     1.158     0.271     0.288   \n",
       "3     0.429     0.136     0.093  ...     1.289     1.110     0.280     0.268   \n",
       "4     0.448     0.132     0.079  ...     1.405     1.026     0.298     0.249   \n",
       "\n",
       "   AF4/theta  AF4/alpha  AF4/betaL  AF4/betaH  AF4/gamma  direction  \n",
       "0     12.798      4.384      2.380      0.544      0.329          0  \n",
       "1     10.487      3.355      2.141      0.507      0.316          0  \n",
       "2      7.510      2.210      1.769      0.446      0.297          0  \n",
       "3      4.877      1.295      1.378      0.382      0.277          0  \n",
       "4      3.147      0.806      1.052      0.331      0.258          0  \n",
       "\n",
       "[5 rows x 71 columns]"
      ]
     },
     "execution_count": 3,
     "metadata": {},
     "output_type": "execute_result"
    }
   ],
   "source": [
    "print(eeg_data.shape)\n",
    "eeg_data.head()"
   ]
  },
  {
   "cell_type": "code",
   "execution_count": 4,
   "metadata": {},
   "outputs": [
    {
     "name": "stdout",
     "output_type": "stream",
     "text": [
      "(3999, 70)\n",
      "(3999,)\n"
     ]
    }
   ],
   "source": [
    "# Create X, y\n",
    "X = eeg_data.drop('direction', axis=1)\n",
    "y = eeg_data['direction']\n",
    "\n",
    "print(X.shape)\n",
    "print(y.shape)"
   ]
  },
  {
   "cell_type": "code",
   "execution_count": 5,
   "metadata": {},
   "outputs": [
    {
     "name": "stdout",
     "output_type": "stream",
     "text": [
      "(2999, 70)\n",
      "(2999,)\n",
      "(1000, 70)\n",
      "(1000,)\n"
     ]
    }
   ],
   "source": [
    "# Split the data to train and test\n",
    "X_train, X_test, y_train, y_test = train_test_split(X, y, test_size = 0.25, random_state=42)\n",
    "\n",
    "print(X_train.shape)\n",
    "print(y_train.shape)\n",
    "print(X_test.shape)\n",
    "print(y_test.shape)"
   ]
  },
  {
   "cell_type": "code",
   "execution_count": 6,
   "metadata": {},
   "outputs": [],
   "source": [
    "# Create a random forest classifier with 100 estimators\n",
    "rf = RandomForestClassifier(n_estimators=100)\n",
    "# Fit the model to X_train and y_train\n",
    "rf.fit(X_train, y_train)\n",
    "# Make predictions on X_test\n",
    "y_pred = rf.predict(X_test)"
   ]
  },
  {
   "cell_type": "code",
   "execution_count": 7,
   "metadata": {},
   "outputs": [
    {
     "name": "stdout",
     "output_type": "stream",
     "text": [
      "Accuracy:  0.99\n"
     ]
    }
   ],
   "source": [
    "# Compute accuracy\n",
    "print(\"Accuracy: \", accuracy_score(y_test, y_pred))"
   ]
  },
  {
   "cell_type": "code",
   "execution_count": 8,
   "metadata": {},
   "outputs": [
    {
     "name": "stdout",
     "output_type": "stream",
     "text": [
      "0.011228561401367188 seconds\n",
      "Predicted class: 1\n",
      "Actual class: 1\n"
     ]
    }
   ],
   "source": [
    "# load in test sample, predict, and measure how long it takes\n",
    "import time\n",
    "start = time.time()\n",
    "dataSample = X_test.iloc[[0]]\n",
    "test_pred = rf.predict(dataSample)\n",
    "end = time.time()\n",
    "print(end - start, end='')\n",
    "print(\" seconds\")\n",
    "print(\"Predicted class: \", end='')\n",
    "print(test_pred[0])\n",
    "print(\"Actual class: \", end='')\n",
    "print(y_test[1760])"
   ]
  }
 ],
 "metadata": {
  "kernelspec": {
   "display_name": "Python 3",
   "language": "python",
   "name": "python3"
  },
  "language_info": {
   "codemirror_mode": {
    "name": "ipython",
    "version": 3
   },
   "file_extension": ".py",
   "mimetype": "text/x-python",
   "name": "python",
   "nbconvert_exporter": "python",
   "pygments_lexer": "ipython3",
   "version": "3.7.3"
  }
 },
 "nbformat": 4,
 "nbformat_minor": 2
}
